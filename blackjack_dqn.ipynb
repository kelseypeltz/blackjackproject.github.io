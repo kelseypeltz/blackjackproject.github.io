{
  "nbformat": 4,
  "nbformat_minor": 0,
  "metadata": {
    "colab": {
      "provenance": [],
      "include_colab_link": true
    },
    "kernelspec": {
      "name": "python3",
      "display_name": "Python 3"
    }
  },
  "cells": [
    {
      "cell_type": "markdown",
      "metadata": {
        "id": "view-in-github",
        "colab_type": "text"
      },
      "source": [
        "<a href=\"https://colab.research.google.com/github/kelseypeltz/blackjackproject.github.io/blob/main/blackjack_dqn.ipynb\" target=\"_parent\"><img src=\"https://colab.research.google.com/assets/colab-badge.svg\" alt=\"Open In Colab\"/></a>"
      ]
    },
    {
      "cell_type": "code",
      "metadata": {
        "id": "zQ8CiXAJjQGi",
        "outputId": "8d468932-42e0-4574-dec2-fe9d92d56492",
        "colab": {
          "base_uri": "https://localhost:8080/"
        }
      },
      "source": [
        "!pip install rlcard[torch]"
      ],
      "execution_count": 1,
      "outputs": [
        {
          "output_type": "stream",
          "name": "stdout",
          "text": [
            "Looking in indexes: https://pypi.org/simple, https://us-python.pkg.dev/colab-wheels/public/simple/\n",
            "Collecting rlcard[torch]\n",
            "  Downloading rlcard-1.0.9.tar.gz (265 kB)\n",
            "\u001b[K     |████████████████████████████████| 265 kB 11.2 MB/s \n",
            "\u001b[?25hRequirement already satisfied: numpy>=1.16.3 in /usr/local/lib/python3.7/dist-packages (from rlcard[torch]) (1.21.6)\n",
            "Requirement already satisfied: termcolor in /usr/local/lib/python3.7/dist-packages (from rlcard[torch]) (2.1.0)\n",
            "Requirement already satisfied: torch in /usr/local/lib/python3.7/dist-packages (from rlcard[torch]) (1.12.1+cu113)\n",
            "Collecting GitPython\n",
            "  Downloading GitPython-3.1.29-py3-none-any.whl (182 kB)\n",
            "\u001b[K     |████████████████████████████████| 182 kB 40.6 MB/s \n",
            "\u001b[?25hCollecting gitdb2\n",
            "  Downloading gitdb2-4.0.2-py3-none-any.whl (1.1 kB)\n",
            "Requirement already satisfied: matplotlib in /usr/local/lib/python3.7/dist-packages (from rlcard[torch]) (3.2.2)\n",
            "Collecting gitdb>=4.0.1\n",
            "  Downloading gitdb-4.0.9-py3-none-any.whl (63 kB)\n",
            "\u001b[K     |████████████████████████████████| 63 kB 1.5 MB/s \n",
            "\u001b[?25hCollecting smmap<6,>=3.0.1\n",
            "  Downloading smmap-5.0.0-py3-none-any.whl (24 kB)\n",
            "Requirement already satisfied: typing-extensions>=3.7.4.3 in /usr/local/lib/python3.7/dist-packages (from GitPython->rlcard[torch]) (4.1.1)\n",
            "Requirement already satisfied: pyparsing!=2.0.4,!=2.1.2,!=2.1.6,>=2.0.1 in /usr/local/lib/python3.7/dist-packages (from matplotlib->rlcard[torch]) (3.0.9)\n",
            "Requirement already satisfied: cycler>=0.10 in /usr/local/lib/python3.7/dist-packages (from matplotlib->rlcard[torch]) (0.11.0)\n",
            "Requirement already satisfied: kiwisolver>=1.0.1 in /usr/local/lib/python3.7/dist-packages (from matplotlib->rlcard[torch]) (1.4.4)\n",
            "Requirement already satisfied: python-dateutil>=2.1 in /usr/local/lib/python3.7/dist-packages (from matplotlib->rlcard[torch]) (2.8.2)\n",
            "Requirement already satisfied: six>=1.5 in /usr/local/lib/python3.7/dist-packages (from python-dateutil>=2.1->matplotlib->rlcard[torch]) (1.15.0)\n",
            "Building wheels for collected packages: rlcard\n",
            "  Building wheel for rlcard (setup.py) ... \u001b[?25l\u001b[?25hdone\n",
            "  Created wheel for rlcard: filename=rlcard-1.0.9-py3-none-any.whl size=322180 sha256=7ddb25e81b971cac037f5f8bd7b8748ebcf6120fb587297e510f97e668a517d0\n",
            "  Stored in directory: /root/.cache/pip/wheels/69/56/31/00e36d772b2b0277c5df2f7354077f1a69be8d9491f42a6125\n",
            "Successfully built rlcard\n",
            "Installing collected packages: smmap, gitdb, rlcard, GitPython, gitdb2\n",
            "Successfully installed GitPython-3.1.29 gitdb-4.0.9 gitdb2-4.0.2 rlcard-1.0.9 smmap-5.0.0\n"
          ]
        }
      ]
    },
    {
      "cell_type": "code",
      "metadata": {
        "id": "4_A_Br3Jj0xW"
      },
      "source": [
        "import rlcard\n",
        "from rlcard.agents import DQNAgent\n",
        "from rlcard.agents import RandomAgent\n",
        "from rlcard.agents import BlackjackHumanAgent"
      ],
      "execution_count": 13,
      "outputs": []
    },
    {
      "cell_type": "code",
      "metadata": {
        "id": "l_8Kuf47kghG",
        "colab": {
          "base_uri": "https://localhost:8080/"
        },
        "outputId": "82d0c65c-7232-42b1-a0fe-51dd3ad85207"
      },
      "source": [
        "env = rlcard.make(\"blackjack\")\n",
        "print(\"Number of actions:\", env.num_actions)\n",
        "print(\"Number of players:\", env.num_players)\n",
        "print(\"Shape of state:\", env.state_shape)\n",
        "print(\"Shape of action:\", env.action_shape)"
      ],
      "execution_count": 3,
      "outputs": [
        {
          "output_type": "stream",
          "name": "stdout",
          "text": [
            "Number of actions: 2\n",
            "Number of players: 1\n",
            "Shape of state: [[2]]\n",
            "Shape of action: [None]\n"
          ]
        }
      ]
    },
    {
      "cell_type": "code",
      "metadata": {
        "id": "8bqfMncnJTYU"
      },
      "source": [
        "agent = DQNAgent(\n",
        "    num_actions=env.num_actions,\n",
        "    state_shape=env.state_shape[0],\n",
        "    mlp_layers=[64,64],\n",
        ")\n",
        "agent2 = RandomAgent(\n",
        "    num_actions=env.num_actions\n",
        ")"
      ],
      "execution_count": 4,
      "outputs": []
    },
    {
      "cell_type": "code",
      "source": [
        "env.set_agents([agent])"
      ],
      "metadata": {
        "id": "5JEwJb_Oztut"
      },
      "execution_count": 5,
      "outputs": []
    },
    {
      "cell_type": "code",
      "metadata": {
        "id": "GhgGYyick13x"
      },
      "source": [
        "from rlcard.utils import (\n",
        "    tournament,\n",
        "    reorganize,\n",
        "    Logger,\n",
        "    plot_curve,\n",
        ")"
      ],
      "execution_count": 6,
      "outputs": []
    },
    {
      "cell_type": "code",
      "metadata": {
        "id": "rYAj8Q22k5e2",
        "outputId": "bc99075b-3004-430b-8fc5-2f332c62177f",
        "colab": {
          "base_uri": "https://localhost:8080/"
        }
      },
      "source": [
        "with Logger(\"experiments/leduc_holdem_dqn_result/\") as logger:\n",
        "    for episode in range(1000):\n",
        "\n",
        "        # Generate data from the environment\n",
        "        trajectories, payoffs = env.run(is_training=True)\n",
        "\n",
        "        # Reorganaize the data to be state, action, reward, next_state, done\n",
        "        trajectories = reorganize(trajectories, payoffs)\n",
        "\n",
        "        # Feed transitions into agent memory, and train the agent\n",
        "        for ts in trajectories[0]:\n",
        "            agent.feed(ts)\n",
        "\n",
        "        # Evaluate the performance.\n",
        "        if episode % 50 == 0:\n",
        "            logger.log_performance(\n",
        "                env.timestep,\n",
        "                tournament(\n",
        "                    env,\n",
        "                    10000,\n",
        "                )[0]\n",
        "            )\n",
        "\n",
        "    # Get the paths\n",
        "    csv_path_dqn, fig_path_dqn = logger.csv_path, logger.fig_path"
      ],
      "execution_count": 7,
      "outputs": [
        {
          "output_type": "stream",
          "name": "stdout",
          "text": [
            "\n",
            "----------------------------------------\n",
            "  timestep     |  1\n",
            "  reward       |  -1.0\n",
            "----------------------------------------\n",
            "\n",
            "----------------------------------------\n",
            "  timestep     |  19210\n",
            "  reward       |  -1.0\n",
            "----------------------------------------\n",
            "INFO - Step 100, rl-loss: 2.067084550857544\n",
            "INFO - Copied model parameters to target network.\n",
            "INFO - Step 141, rl-loss: 1.848868727684021\n",
            "----------------------------------------\n",
            "  timestep     |  38436\n",
            "  reward       |  -1.0\n",
            "----------------------------------------\n",
            "INFO - Step 204, rl-loss: 1.4896876811981201\n",
            "----------------------------------------\n",
            "  timestep     |  57800\n",
            "  reward       |  -1.0\n",
            "----------------------------------------\n",
            "INFO - Step 270, rl-loss: 1.3464868068695068\n",
            "----------------------------------------\n",
            "  timestep     |  77010\n",
            "  reward       |  -1.0\n",
            "----------------------------------------\n",
            "INFO - Step 348, rl-loss: 1.4712234735488892\n",
            "----------------------------------------\n",
            "  timestep     |  96288\n",
            "  reward       |  -1.0\n",
            "----------------------------------------\n",
            "INFO - Step 413, rl-loss: 1.5164250135421753\n",
            "----------------------------------------\n",
            "  timestep     |  115530\n",
            "  reward       |  -0.7765\n",
            "----------------------------------------\n",
            "INFO - Step 482, rl-loss: 1.0691286325454712\n",
            "----------------------------------------\n",
            "  timestep     |  134069\n",
            "  reward       |  -0.2254\n",
            "----------------------------------------\n",
            "INFO - Step 546, rl-loss: 1.0750333070755005\n",
            "----------------------------------------\n",
            "  timestep     |  151313\n",
            "  reward       |  -0.0824\n",
            "----------------------------------------\n",
            "INFO - Step 614, rl-loss: 0.7312273383140564\n",
            "----------------------------------------\n",
            "  timestep     |  167221\n",
            "  reward       |  -0.0435\n",
            "----------------------------------------\n",
            "INFO - Step 685, rl-loss: 0.6186275482177734\n",
            "----------------------------------------\n",
            "  timestep     |  182341\n",
            "  reward       |  -0.043\n",
            "----------------------------------------\n",
            "INFO - Step 750, rl-loss: 0.594235897064209\n",
            "----------------------------------------\n",
            "  timestep     |  197096\n",
            "  reward       |  -0.0502\n",
            "----------------------------------------\n",
            "INFO - Step 814, rl-loss: 0.8282611966133118\n",
            "----------------------------------------\n",
            "  timestep     |  212179\n",
            "  reward       |  -0.0588\n",
            "----------------------------------------\n",
            "INFO - Step 891, rl-loss: 0.5063188672065735\n",
            "----------------------------------------\n",
            "  timestep     |  227353\n",
            "  reward       |  -0.069\n",
            "----------------------------------------\n",
            "INFO - Step 964, rl-loss: 0.7260358929634094\n",
            "----------------------------------------\n",
            "  timestep     |  242069\n",
            "  reward       |  -0.0624\n",
            "----------------------------------------\n",
            "INFO - Step 1031, rl-loss: 0.6321600675582886\n",
            "----------------------------------------\n",
            "  timestep     |  256844\n",
            "  reward       |  -0.0767\n",
            "----------------------------------------\n",
            "INFO - Step 1098, rl-loss: 0.6747673749923706\n",
            "----------------------------------------\n",
            "  timestep     |  271468\n",
            "  reward       |  -0.0526\n",
            "----------------------------------------\n",
            "INFO - Step 1100, rl-loss: 0.4791783094406128\n",
            "INFO - Copied model parameters to target network.\n",
            "INFO - Step 1168, rl-loss: 0.8553667664527893\n",
            "----------------------------------------\n",
            "  timestep     |  285944\n",
            "  reward       |  -0.0532\n",
            "----------------------------------------\n",
            "INFO - Step 1240, rl-loss: 0.48345476388931274\n",
            "----------------------------------------\n",
            "  timestep     |  300157\n",
            "  reward       |  -0.0556\n",
            "----------------------------------------\n",
            "INFO - Step 1308, rl-loss: 0.46067506074905396\n",
            "----------------------------------------\n",
            "  timestep     |  314746\n",
            "  reward       |  -0.0905\n",
            "----------------------------------------\n",
            "INFO - Step 1379, rl-loss: 0.5939248204231262\n",
            "Logs saved in experiments/leduc_holdem_dqn_result/\n"
          ]
        }
      ]
    },
    {
      "cell_type": "code",
      "metadata": {
        "id": "06n2QSTDIqb0",
        "outputId": "25d84e5a-30e8-4883-9fdd-73de098c9c26",
        "colab": {
          "base_uri": "https://localhost:8080/",
          "height": 282
        }
      },
      "source": [
        "plot_curve(csv_path_dqn, fig_path_dqn, \"DQN\")"
      ],
      "execution_count": 8,
      "outputs": [
        {
          "output_type": "display_data",
          "data": {
            "text/plain": [
              "<Figure size 432x288 with 1 Axes>"
            ],
            "image/png": "[encoded data removed]"
          },
          "metadata": {
            "needs_background": "light"
          }
        }
      ]
    },
    {
      "cell_type": "code",
      "source": [
        "env.set_agents([agent2])"
      ],
      "metadata": {
        "id": "Pdf2B4HzF5vf"
      },
      "execution_count": 9,
      "outputs": []
    },
    {
      "cell_type": "code",
      "source": [
        "with Logger(\"experiments/leduc_holdem_random_result/\") as logger:\n",
        "    for episode in range(1000):\n",
        "\n",
        "        # Generate data from the environment\n",
        "        trajectories, payoffs = env.run(is_training=True)\n",
        "\n",
        "        # Reorganaize the data to be state, action, reward, next_state, done\n",
        "        trajectories = reorganize(trajectories, payoffs)\n",
        "\n",
        "        # Feed transitions into agent memory, and train the agent\n",
        "        for ts in trajectories[0]:\n",
        "            agent.feed(ts)\n",
        "\n",
        "        # Evaluate the performance.\n",
        "        if episode % 50 == 0:\n",
        "            logger.log_performance(\n",
        "                env.timestep,\n",
        "                tournament(\n",
        "                    env,\n",
        "                    10000,\n",
        "                )[0]\n",
        "            )\n",
        "\n",
        "    # Get the paths\n",
        "    csv_path_random, fig_path_random = logger.csv_path, logger.fig_path"
      ],
      "metadata": {
        "colab": {
          "base_uri": "https://localhost:8080/"
        },
        "id": "J639omhrGBkw",
        "outputId": "c290d728-682f-4287-b61a-28ee828f79af"
      },
      "execution_count": 10,
      "outputs": [
        {
          "output_type": "stream",
          "name": "stdout",
          "text": [
            "INFO - Step 1381, rl-loss: 0.5394047498703003\n",
            "----------------------------------------\n",
            "  timestep     |  328977\n",
            "  reward       |  -0.3966\n",
            "----------------------------------------\n",
            "INFO - Step 1453, rl-loss: 0.5408403873443604\n",
            "----------------------------------------\n",
            "  timestep     |  342820\n",
            "  reward       |  -0.3793\n",
            "----------------------------------------\n",
            "INFO - Step 1517, rl-loss: 0.6561026573181152\n",
            "----------------------------------------\n",
            "  timestep     |  356722\n",
            "  reward       |  -0.3798\n",
            "----------------------------------------\n",
            "INFO - Step 1593, rl-loss: 0.4648487865924835\n",
            "----------------------------------------\n",
            "  timestep     |  370533\n",
            "  reward       |  -0.3962\n",
            "----------------------------------------\n",
            "INFO - Step 1655, rl-loss: 0.3788188099861145\n",
            "----------------------------------------\n",
            "  timestep     |  384326\n",
            "  reward       |  -0.3859\n",
            "----------------------------------------\n",
            "INFO - Step 1724, rl-loss: 0.6706458926200867\n",
            "----------------------------------------\n",
            "  timestep     |  398076\n",
            "  reward       |  -0.3987\n",
            "----------------------------------------\n",
            "INFO - Step 1789, rl-loss: 0.47995099425315857\n",
            "----------------------------------------\n",
            "  timestep     |  411822\n",
            "  reward       |  -0.3942\n",
            "----------------------------------------\n",
            "INFO - Step 1862, rl-loss: 0.6375411748886108\n",
            "----------------------------------------\n",
            "  timestep     |  425710\n",
            "  reward       |  -0.3999\n",
            "----------------------------------------\n",
            "INFO - Step 1929, rl-loss: 0.49656587839126587\n",
            "----------------------------------------\n",
            "  timestep     |  439473\n",
            "  reward       |  -0.3911\n",
            "----------------------------------------\n",
            "INFO - Step 1996, rl-loss: 0.5100237131118774\n",
            "----------------------------------------\n",
            "  timestep     |  453269\n",
            "  reward       |  -0.3961\n",
            "----------------------------------------\n",
            "INFO - Step 2065, rl-loss: 0.38723090291023254\n",
            "----------------------------------------\n",
            "  timestep     |  467191\n",
            "  reward       |  -0.3939\n",
            "----------------------------------------\n",
            "INFO - Step 2100, rl-loss: 0.6696458458900452\n",
            "INFO - Copied model parameters to target network.\n",
            "INFO - Step 2128, rl-loss: 0.45374780893325806\n",
            "----------------------------------------\n",
            "  timestep     |  481001\n",
            "  reward       |  -0.4095\n",
            "----------------------------------------\n",
            "INFO - Step 2192, rl-loss: 0.48089608550071716\n",
            "----------------------------------------\n",
            "  timestep     |  494776\n",
            "  reward       |  -0.403\n",
            "----------------------------------------\n",
            "INFO - Step 2263, rl-loss: 0.5591516494750977\n",
            "----------------------------------------\n",
            "  timestep     |  508533\n",
            "  reward       |  -0.3836\n",
            "----------------------------------------\n",
            "INFO - Step 2330, rl-loss: 0.476777583360672\n",
            "----------------------------------------\n",
            "  timestep     |  522304\n",
            "  reward       |  -0.3911\n",
            "----------------------------------------\n",
            "INFO - Step 2397, rl-loss: 0.32806217670440674\n",
            "----------------------------------------\n",
            "  timestep     |  536091\n",
            "  reward       |  -0.4035\n",
            "----------------------------------------\n",
            "INFO - Step 2470, rl-loss: 0.6128177046775818\n",
            "----------------------------------------\n",
            "  timestep     |  550042\n",
            "  reward       |  -0.3837\n",
            "----------------------------------------\n",
            "INFO - Step 2538, rl-loss: 0.7214893102645874\n",
            "----------------------------------------\n",
            "  timestep     |  563813\n",
            "  reward       |  -0.3964\n",
            "----------------------------------------\n",
            "INFO - Step 2608, rl-loss: 0.49285489320755005\n",
            "----------------------------------------\n",
            "  timestep     |  577615\n",
            "  reward       |  -0.3907\n",
            "----------------------------------------\n",
            "INFO - Step 2682, rl-loss: 0.3446132242679596\n",
            "----------------------------------------\n",
            "  timestep     |  591226\n",
            "  reward       |  -0.4037\n",
            "----------------------------------------\n",
            "INFO - Step 2741, rl-loss: 0.41392436623573303\n",
            "Logs saved in experiments/leduc_holdem_random_result/\n"
          ]
        }
      ]
    },
    {
      "cell_type": "code",
      "source": [
        "plot_curve(csv_path_random, fig_path_random, \"Random\")\n",
        "plot_curve(csv_path_dqn, fig_path_dqn, \"DQN\")"
      ],
      "metadata": {
        "colab": {
          "base_uri": "https://localhost:8080/",
          "height": 544
        },
        "id": "OsRQUJjgGUZ1",
        "outputId": "77ea0b9a-9b17-4e7f-ae21-fe304c920caa"
      },
      "execution_count": 18,
      "outputs": [
        {
          "output_type": "display_data",
          "data": {
            "text/plain": [
              "<Figure size 432x288 with 1 Axes>"
            ],
            "image/png": "[encoded data removed]"
          },
          "metadata": {
            "needs_background": "light"
          }
        },
        {
          "output_type": "display_data",
          "data": {
            "text/plain": [
              "<Figure size 432x288 with 1 Axes>"
            ],
            "image/png": "[encoded data removed]"
          },
          "metadata": {
            "needs_background": "light"
          }
        }
      ]
    },
    {
      "cell_type": "code",
      "source": [
        "import pandas as pd\n",
        "dqn_df = pd.read_csv(csv_path_dqn)\n",
        "random_df = pd.read_csv(csv_path_random)\n",
        "random_df = random_df.rename(columns={'reward': 'reward_random'})\n",
        "reward = random_df[\"reward_random\"]\n",
        "dqn_df = dqn_df.join(reward)\n",
        "dqn_df.plot()\n"
      ],
      "metadata": {
        "colab": {
          "base_uri": "https://localhost:8080/",
          "height": 282
        },
        "id": "2W1yVoO4Of6D",
        "outputId": "7c6e94f6-1896-4657-b2a7-0c1892ac5cfc"
      },
      "execution_count": 12,
      "outputs": [
        {
          "output_type": "execute_result",
          "data": {
            "text/plain": [
              "<matplotlib.axes._subplots.AxesSubplot at 0x7f729aa3a350>"
            ]
          },
          "metadata": {},
          "execution_count": 12
        },
        {
          "output_type": "display_data",
          "data": {
            "text/plain": [
              "<Figure size 432x288 with 1 Axes>"
            ],
            "image/png": "[encoded data removed]"
          },
          "metadata": {
            "needs_background": "light"
          }
        }
      ]
    }
  ]
}